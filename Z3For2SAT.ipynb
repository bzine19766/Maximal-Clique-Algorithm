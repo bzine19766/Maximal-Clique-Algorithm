{
 "cells": [
  {
   "cell_type": "code",
   "execution_count": 1,
   "metadata": {},
   "outputs": [],
   "source": [
    "from z3 import *"
   ]
  },
  {
   "cell_type": "code",
   "execution_count": 2,
   "metadata": {},
   "outputs": [],
   "source": [
    "s = Solver() # create a solver s"
   ]
  },
  {
   "cell_type": "code",
   "execution_count": 3,
   "metadata": {},
   "outputs": [],
   "source": [
    "import networkx as nx"
   ]
  },
  {
   "cell_type": "code",
   "execution_count": 4,
   "metadata": {},
   "outputs": [],
   "source": [
    "import matplotlib.pyplot as plt"
   ]
  },
  {
   "cell_type": "code",
   "execution_count": 5,
   "metadata": {},
   "outputs": [],
   "source": [
    "import networkx.algorithms.isomorphism as iso"
   ]
  },
  {
   "cell_type": "code",
   "execution_count": 6,
   "metadata": {},
   "outputs": [],
   "source": [
    "G = nx.Graph()"
   ]
  },
  {
   "cell_type": "code",
   "execution_count": 7,
   "metadata": {},
   "outputs": [],
   "source": [
    "G= nx.read_adjlist(\"tomita.adjlist\",nodetype=int)"
   ]
  },
  {
   "cell_type": "code",
   "execution_count": 8,
   "metadata": {},
   "outputs": [
    {
     "data": {
      "image/png": "[encoded data removed]",
      "text/plain": [
       "<Figure size 432x288 with 1 Axes>"
      ]
     },
     "metadata": {},
     "output_type": "display_data"
    }
   ],
   "source": [
    "nx.draw(G,with_labels = True)"
   ]
  },
  {
   "cell_type": "code",
   "execution_count": 9,
   "metadata": {},
   "outputs": [],
   "source": [
    "nn=G.number_of_nodes()"
   ]
  },
  {
   "cell_type": "code",
   "execution_count": 10,
   "metadata": {},
   "outputs": [],
   "source": [
    "le=list(G.edges)"
   ]
  },
  {
   "cell_type": "code",
   "execution_count": 11,
   "metadata": {},
   "outputs": [],
   "source": [
    "A=[G.adj[i] for i in range(nn)]"
   ]
  },
  {
   "cell_type": "code",
   "execution_count": 12,
   "metadata": {},
   "outputs": [],
   "source": [
    "N=[list(i) for i in A]"
   ]
  },
  {
   "cell_type": "code",
   "execution_count": 13,
   "metadata": {},
   "outputs": [],
   "source": [
    "ln=list(G.nodes)"
   ]
  },
  {
   "cell_type": "code",
   "execution_count": 14,
   "metadata": {},
   "outputs": [],
   "source": [
    "def Diff(li1, li2):\n",
    "    return (list(list(set(li1)-set(li2)) + list(set(li2)-set(li1))))"
   ]
  },
  {
   "cell_type": "code",
   "execution_count": 15,
   "metadata": {},
   "outputs": [],
   "source": [
    "complement=[ Diff(ln,e)for e in N]"
   ]
  },
  {
   "cell_type": "code",
   "execution_count": 16,
   "metadata": {},
   "outputs": [],
   "source": [
    "spec2=[BitVec('V'+str(j+1), nn+3) for j in range(nn)]# for Tomita graph  change  nn\n",
    "#           by nn+3 to be statisfied "
   ]
  },
  {
   "cell_type": "code",
   "execution_count": 17,
   "metadata": {},
   "outputs": [
    {
     "data": {
      "text/plain": [
       "[V1, V2, V3, V4, V5, V6, V7, V8, V9]"
      ]
     },
     "execution_count": 17,
     "metadata": {},
     "output_type": "execute_result"
    }
   ],
   "source": [
    "spec2"
   ]
  },
  {
   "cell_type": "code",
   "execution_count": 18,
   "metadata": {},
   "outputs": [],
   "source": [
    "for j in range(nn):\n",
    "    p=2**j\n",
    "    s.add(spec2[j]&p==p)"
   ]
  },
  {
   "cell_type": "code",
   "execution_count": 19,
   "metadata": {},
   "outputs": [],
   "source": [
    "for i in range(nn):\n",
    "    for j in N[i]:\n",
    "        if i >j :\n",
    "            s.add(spec2[j]&spec2[i]==0)\n",
    "    "
   ]
  },
  {
   "cell_type": "code",
   "execution_count": 20,
   "metadata": {},
   "outputs": [],
   "source": [
    "for i in range(nn):\n",
    "    for j in complement[i]:\n",
    "        if i >j :\n",
    "            s.add(spec2[j]&spec2[i]!=0)"
   ]
  },
  {
   "cell_type": "code",
   "execution_count": 21,
   "metadata": {},
   "outputs": [],
   "source": [
    "for i in range(nn):\n",
    "    for j in range(nn):\n",
    "        if i !=j :\n",
    "            s.add(spec2[j]!=spec2[i])\n",
    "    "
   ]
  },
  {
   "cell_type": "code",
   "execution_count": 22,
   "metadata": {},
   "outputs": [
    {
     "data": {
      "text/html": [
       "[V1 & 1 = 1,\n",
       " V2 & 2 = 2,\n",
       " V3 & 4 = 4,\n",
       " V4 & 8 = 8,\n",
       " V5 & 16 = 16,\n",
       " V6 & 32 = 32,\n",
       " V7 & 64 = 64,\n",
       " V8 & 128 = 128,\n",
       " V9 & 256 = 256,\n",
       " V1 & V2 = 0,\n",
       " V2 & V3 = 0,\n",
       " V3 & V4 = 0,\n",
       " V4 & V5 = 0,\n",
       " V4 & V6 = 0,\n",
       " V5 & V6 = 0,\n",
       " V4 & V7 = 0,\n",
       " V6 & V7 = 0,\n",
       " V3 & V8 = 0,\n",
       " V4 & V8 = 0,\n",
       " V6 & V8 = 0,\n",
       " V7 & V8 = 0,\n",
       " V1 & V9 = 0,\n",
       " V2 & V9 = 0,\n",
       " V3 & V9 = 0,\n",
       " V1 & V3 &ne; 0,\n",
       " V1 & V4 &ne; 0,\n",
       " V2 & V4 &ne; 0,\n",
       " V1 & V5 &ne; 0,\n",
       " V2 & V5 &ne; 0,\n",
       " V3 & V5 &ne; 0,\n",
       " V1 & V6 &ne; 0,\n",
       " V2 & V6 &ne; 0,\n",
       " V3 & V6 &ne; 0,\n",
       " V1 & V7 &ne; 0,\n",
       " V2 & V7 &ne; 0,\n",
       " V3 & V7 &ne; 0,\n",
       " V5 & V7 &ne; 0,\n",
       " V1 & V8 &ne; 0,\n",
       " V2 & V8 &ne; 0,\n",
       " V5 & V8 &ne; 0,\n",
       " V4 & V9 &ne; 0,\n",
       " V5 & V9 &ne; 0,\n",
       " V6 & V9 &ne; 0,\n",
       " V7 & V9 &ne; 0,\n",
       " V8 & V9 &ne; 0,\n",
       " V2 &ne; V1,\n",
       " V3 &ne; V1,\n",
       " V4 &ne; V1,\n",
       " V5 &ne; V1,\n",
       " V6 &ne; V1,\n",
       " V7 &ne; V1,\n",
       " V8 &ne; V1,\n",
       " V9 &ne; V1,\n",
       " V1 &ne; V2,\n",
       " V3 &ne; V2,\n",
       " V4 &ne; V2,\n",
       " V5 &ne; V2,\n",
       " V6 &ne; V2,\n",
       " V7 &ne; V2,\n",
       " V8 &ne; V2,\n",
       " V9 &ne; V2,\n",
       " V1 &ne; V3,\n",
       " V2 &ne; V3,\n",
       " V4 &ne; V3,\n",
       " V5 &ne; V3,\n",
       " V6 &ne; V3,\n",
       " V7 &ne; V3,\n",
       " V8 &ne; V3,\n",
       " V9 &ne; V3,\n",
       " V1 &ne; V4,\n",
       " V2 &ne; V4,\n",
       " V3 &ne; V4,\n",
       " V5 &ne; V4,\n",
       " V6 &ne; V4,\n",
       " V7 &ne; V4,\n",
       " V8 &ne; V4,\n",
       " V9 &ne; V4,\n",
       " V1 &ne; V5,\n",
       " V2 &ne; V5,\n",
       " V3 &ne; V5,\n",
       " V4 &ne; V5,\n",
       " V6 &ne; V5,\n",
       " V7 &ne; V5,\n",
       " V8 &ne; V5,\n",
       " V9 &ne; V5,\n",
       " V1 &ne; V6,\n",
       " V2 &ne; V6,\n",
       " V3 &ne; V6,\n",
       " V4 &ne; V6,\n",
       " V5 &ne; V6,\n",
       " V7 &ne; V6,\n",
       " V8 &ne; V6,\n",
       " V9 &ne; V6,\n",
       " V1 &ne; V7,\n",
       " V2 &ne; V7,\n",
       " V3 &ne; V7,\n",
       " V4 &ne; V7,\n",
       " V5 &ne; V7,\n",
       " V6 &ne; V7,\n",
       " V8 &ne; V7,\n",
       " V9 &ne; V7,\n",
       " V1 &ne; V8,\n",
       " V2 &ne; V8,\n",
       " V3 &ne; V8,\n",
       " V4 &ne; V8,\n",
       " V5 &ne; V8,\n",
       " V6 &ne; V8,\n",
       " V7 &ne; V8,\n",
       " V9 &ne; V8,\n",
       " V1 &ne; V9,\n",
       " V2 &ne; V9,\n",
       " V3 &ne; V9,\n",
       " V4 &ne; V9,\n",
       " V5 &ne; V9,\n",
       " V6 &ne; V9,\n",
       " V7 &ne; V9,\n",
       " V8 &ne; V9]"
      ],
      "text/plain": [
       "[V1 & 1 == 1,\n",
       " V2 & 2 == 2,\n",
       " V3 & 4 == 4,\n",
       " V4 & 8 == 8,\n",
       " V5 & 16 == 16,\n",
       " V6 & 32 == 32,\n",
       " V7 & 64 == 64,\n",
       " V8 & 128 == 128,\n",
       " V9 & 256 == 256,\n",
       " V1 & V2 == 0,\n",
       " V2 & V3 == 0,\n",
       " V3 & V4 == 0,\n",
       " V4 & V5 == 0,\n",
       " V4 & V6 == 0,\n",
       " V5 & V6 == 0,\n",
       " V4 & V7 == 0,\n",
       " V6 & V7 == 0,\n",
       " V3 & V8 == 0,\n",
       " V4 & V8 == 0,\n",
       " V6 & V8 == 0,\n",
       " V7 & V8 == 0,\n",
       " V1 & V9 == 0,\n",
       " V2 & V9 == 0,\n",
       " V3 & V9 == 0,\n",
       " V1 & V3 != 0,\n",
       " V1 & V4 != 0,\n",
       " V2 & V4 != 0,\n",
       " V1 & V5 != 0,\n",
       " V2 & V5 != 0,\n",
       " V3 & V5 != 0,\n",
       " V1 & V6 != 0,\n",
       " V2 & V6 != 0,\n",
       " V3 & V6 != 0,\n",
       " V1 & V7 != 0,\n",
       " V2 & V7 != 0,\n",
       " V3 & V7 != 0,\n",
       " V5 & V7 != 0,\n",
       " V1 & V8 != 0,\n",
       " V2 & V8 != 0,\n",
       " V5 & V8 != 0,\n",
       " V4 & V9 != 0,\n",
       " V5 & V9 != 0,\n",
       " V6 & V9 != 0,\n",
       " V7 & V9 != 0,\n",
       " V8 & V9 != 0,\n",
       " V2 != V1,\n",
       " V3 != V1,\n",
       " V4 != V1,\n",
       " V5 != V1,\n",
       " V6 != V1,\n",
       " V7 != V1,\n",
       " V8 != V1,\n",
       " V9 != V1,\n",
       " V1 != V2,\n",
       " V3 != V2,\n",
       " V4 != V2,\n",
       " V5 != V2,\n",
       " V6 != V2,\n",
       " V7 != V2,\n",
       " V8 != V2,\n",
       " V9 != V2,\n",
       " V1 != V3,\n",
       " V2 != V3,\n",
       " V4 != V3,\n",
       " V5 != V3,\n",
       " V6 != V3,\n",
       " V7 != V3,\n",
       " V8 != V3,\n",
       " V9 != V3,\n",
       " V1 != V4,\n",
       " V2 != V4,\n",
       " V3 != V4,\n",
       " V5 != V4,\n",
       " V6 != V4,\n",
       " V7 != V4,\n",
       " V8 != V4,\n",
       " V9 != V4,\n",
       " V1 != V5,\n",
       " V2 != V5,\n",
       " V3 != V5,\n",
       " V4 != V5,\n",
       " V6 != V5,\n",
       " V7 != V5,\n",
       " V8 != V5,\n",
       " V9 != V5,\n",
       " V1 != V6,\n",
       " V2 != V6,\n",
       " V3 != V6,\n",
       " V4 != V6,\n",
       " V5 != V6,\n",
       " V7 != V6,\n",
       " V8 != V6,\n",
       " V9 != V6,\n",
       " V1 != V7,\n",
       " V2 != V7,\n",
       " V3 != V7,\n",
       " V4 != V7,\n",
       " V5 != V7,\n",
       " V6 != V7,\n",
       " V8 != V7,\n",
       " V9 != V7,\n",
       " V1 != V8,\n",
       " V2 != V8,\n",
       " V3 != V8,\n",
       " V4 != V8,\n",
       " V5 != V8,\n",
       " V6 != V8,\n",
       " V7 != V8,\n",
       " V9 != V8,\n",
       " V1 != V9,\n",
       " V2 != V9,\n",
       " V3 != V9,\n",
       " V4 != V9,\n",
       " V5 != V9,\n",
       " V6 != V9,\n",
       " V7 != V9,\n",
       " V8 != V9]"
      ]
     },
     "execution_count": 22,
     "metadata": {},
     "output_type": "execute_result"
    }
   ],
   "source": [
    "s"
   ]
  },
  {
   "cell_type": "code",
   "execution_count": 23,
   "metadata": {},
   "outputs": [
    {
     "data": {
      "text/html": [
       "<b>sat</b>"
      ],
      "text/plain": [
       "sat"
      ]
     },
     "execution_count": 23,
     "metadata": {},
     "output_type": "execute_result"
    }
   ],
   "source": [
    "s.check()"
   ]
  },
  {
   "cell_type": "code",
   "execution_count": 24,
   "metadata": {},
   "outputs": [],
   "source": [
    "m=s.model()"
   ]
  },
  {
   "cell_type": "code",
   "execution_count": 25,
   "metadata": {},
   "outputs": [
    {
     "data": {
      "text/plain": [
       "9"
      ]
     },
     "execution_count": 25,
     "metadata": {},
     "output_type": "execute_result"
    }
   ],
   "source": [
    "len(m)"
   ]
  },
  {
   "cell_type": "code",
   "execution_count": 26,
   "metadata": {},
   "outputs": [
    {
     "data": {
      "text/html": [
       "[V5 = 532,\n",
       " V3 = 36,\n",
       " V6 = 290,\n",
       " V8 = 656,\n",
       " V7 = 1092,\n",
       " V9 = 2384,\n",
       " V1 = 165,\n",
       " V2 = 1546,\n",
       " V4 = 2057]"
      ],
      "text/plain": [
       "[V5 = 532,\n",
       " V3 = 36,\n",
       " V6 = 290,\n",
       " V8 = 656,\n",
       " V7 = 1092,\n",
       " V9 = 2384,\n",
       " V1 = 165,\n",
       " V2 = 1546,\n",
       " V4 = 2057]"
      ]
     },
     "execution_count": 26,
     "metadata": {},
     "output_type": "execute_result"
    }
   ],
   "source": [
    "m"
   ]
  },
  {
   "cell_type": "code",
   "execution_count": 29,
   "metadata": {},
   "outputs": [],
   "source": [
    "coding=[]\n",
    "\n",
    "for i in range(len(m)):\n",
    "     coding.append(0)\n",
    "\n",
    "for i in range(len(m)):\n",
    "    coding[i]=str(m[spec2[i]])"
   ]
  },
  {
   "cell_type": "code",
   "execution_count": 30,
   "metadata": {},
   "outputs": [
    {
     "data": {
      "text/plain": [
       "['165', '1546', '36', '2057', '532', '290', '1092', '656', '2384']"
      ]
     },
     "execution_count": 30,
     "metadata": {},
     "output_type": "execute_result"
    }
   ],
   "source": [
    "coding"
   ]
  },
  {
   "cell_type": "code",
   "execution_count": 31,
   "metadata": {},
   "outputs": [],
   "source": [
    "import pickle\n",
    "\n",
    "# define a list of places\n",
    "placesList = coding\n",
    "\n",
    "with open('coding.data', 'wb') as filehandle:\n",
    "    # store the data as binary data stream\n",
    "    pickle.dump(placesList, filehandle)"
   ]
  },
  {
   "cell_type": "code",
   "execution_count": 32,
   "metadata": {},
   "outputs": [],
   "source": [
    "import pickle\n",
    "\n",
    "with open('coding.data', 'rb') as filehandle:\n",
    "    # read the data as binary data stream\n",
    "    placesList2 = pickle.load(filehandle)"
   ]
  },
  {
   "cell_type": "code",
   "execution_count": 33,
   "metadata": {},
   "outputs": [],
   "source": [
    "l=[]\n",
    "for i in range(len(coding)):\n",
    "    l.append(int(placesList2[i]))\n"
   ]
  },
  {
   "cell_type": "code",
   "execution_count": 35,
   "metadata": {},
   "outputs": [
    {
     "name": "stdout",
     "output_type": "stream",
     "text": [
      "Kneser representation for G is :\n",
      "[165, 1546, 36, 2057, 532, 290, 1092, 656, 2384]\n"
     ]
    }
   ],
   "source": [
    "print(\"Kneser representation for G is :\")\n",
    "print(l)"
   ]
  },
  {
   "cell_type": "code",
   "execution_count": null,
   "metadata": {},
   "outputs": [],
   "source": []
  },
  {
   "cell_type": "code",
   "execution_count": null,
   "metadata": {},
   "outputs": [],
   "source": []
  }
 ],
 "metadata": {
  "kernelspec": {
   "display_name": "Python 3",
   "language": "python",
   "name": "python3"
  },
  "language_info": {
   "codemirror_mode": {
    "name": "ipython",
    "version": 3
   },
   "file_extension": ".py",
   "mimetype": "text/x-python",
   "name": "python",
   "nbconvert_exporter": "python",
   "pygments_lexer": "ipython3",
   "version": "3.7.6"
  }
 },
 "nbformat": 4,
 "nbformat_minor": 4
}
