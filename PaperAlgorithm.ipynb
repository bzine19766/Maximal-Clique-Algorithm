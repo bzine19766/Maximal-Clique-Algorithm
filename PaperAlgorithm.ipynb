{
 "cells": [
  {
   "cell_type": "code",
   "execution_count": 9,
   "metadata": {},
   "outputs": [],
   "source": [
    "\n",
    "m=5\n",
    "n=2**m-1\n",
    "Gm=[i for i in range(1,n)]"
   ]
  },
  {
   "cell_type": "code",
   "execution_count": 10,
   "metadata": {},
   "outputs": [
    {
     "data": {
      "text/plain": [
       "[1,\n",
       " 2,\n",
       " 3,\n",
       " 4,\n",
       " 5,\n",
       " 6,\n",
       " 7,\n",
       " 8,\n",
       " 9,\n",
       " 10,\n",
       " 11,\n",
       " 12,\n",
       " 13,\n",
       " 14,\n",
       " 15,\n",
       " 16,\n",
       " 17,\n",
       " 18,\n",
       " 19,\n",
       " 20,\n",
       " 21,\n",
       " 22,\n",
       " 23,\n",
       " 24,\n",
       " 25,\n",
       " 26,\n",
       " 27,\n",
       " 28,\n",
       " 29,\n",
       " 30]"
      ]
     },
     "execution_count": 10,
     "metadata": {},
     "output_type": "execute_result"
    }
   ],
   "source": [
    "Gm"
   ]
  },
  {
   "cell_type": "code",
   "execution_count": 11,
   "metadata": {},
   "outputs": [],
   "source": [
    "def  countSetBits(n): \n",
    "    count = 0\n",
    "    while (n): \n",
    "        count += n & 1\n",
    "        n >>= 1\n",
    "    return count "
   ]
  },
  {
   "cell_type": "code",
   "execution_count": 12,
   "metadata": {},
   "outputs": [
    {
     "name": "stdout",
     "output_type": "stream",
     "text": [
      "Dgeneracy ordering:\n",
      "15\n",
      "23\n",
      "27\n",
      "29\n",
      "30\n",
      "7\n",
      "11\n",
      "13\n",
      "14\n",
      "19\n",
      "21\n",
      "22\n",
      "25\n",
      "26\n",
      "28\n",
      "6\n",
      "20\n",
      "12\n",
      "9\n",
      "24\n",
      "10\n",
      "17\n",
      "3\n",
      "18\n",
      "5\n",
      "16\n",
      "2\n",
      "8\n",
      "4\n",
      "1\n"
     ]
    }
   ],
   "source": [
    "# Python program for implementation of Quicksort Sort \n",
    "\n",
    "# This function takes last element as pivot, places \n",
    "# the pivot element at its correct position in sorted \n",
    "# array, and places all smaller (smaller than pivot) \n",
    "# to left of pivot and all greater elements to right \n",
    "# of pivot \n",
    "def partition(arr,low,high): \n",
    "\ti = ( low-1 )\t\t # index of smaller element \n",
    "\tpivot = arr[high]\t # pivot \n",
    "\n",
    "\tfor j in range(low , high): \n",
    "\n",
    "\t\t# If current element is smaller than or \n",
    "\t\t# equal to pivot \n",
    "\t\tif countSetBits(arr[j]) >= countSetBits(pivot): \n",
    "\t\t\n",
    "\t\t\t# increment index of smaller element \n",
    "\t\t\ti = i+1\n",
    "\t\t\tarr[i],arr[j] = arr[j],arr[i] \n",
    "\n",
    "\tarr[i+1],arr[high] = arr[high],arr[i+1] \n",
    "\treturn ( i+1 ) \n",
    "\n",
    "# The main function that implements QuickSort \n",
    "# arr[] --> Array to be sorted, \n",
    "# low --> Starting index, \n",
    "# high --> Ending index \n",
    "\n",
    "# Function to do Quick sort \n",
    "def quickSort(arr,low,high): \n",
    "\tif low < high: \n",
    "\n",
    "\t\t# pi is partitioning index, arr[p] is now \n",
    "\t\t# at right place \n",
    "\t\tpi = partition(arr,low,high) \n",
    "\n",
    "\t\t# Separately sort elements before \n",
    "\t\t# partition and after partition \n",
    "\t\tquickSort(arr, low, pi-1) \n",
    "\t\tquickSort(arr, pi+1, high) \n",
    "\n",
    "# Driver code to test above \n",
    "arr = Gm\n",
    "n = len(arr) \n",
    "quickSort(arr,0,n-1) \n",
    "print (\"Dgeneracy ordering:\") \n",
    "for i in range(n): \n",
    "\tprint (\"%d\" %arr[i]), \n",
    "\n",
    "\n"
   ]
  },
  {
   "cell_type": "code",
   "execution_count": 13,
   "metadata": {},
   "outputs": [],
   "source": [
    "refvec=Gm"
   ]
  },
  {
   "cell_type": "code",
   "execution_count": 14,
   "metadata": {},
   "outputs": [],
   "source": [
    "def ensclique(c):\n",
    "    s=set([])\n",
    "    count = 0\n",
    "    while (c):\n",
    "       \n",
    "        if c & 1 == 1 :\n",
    "            s.add(refvec[count])\n",
    "        count +=1\n",
    "        c >>= 1\n",
    "    return s\n",
    "    "
   ]
  },
  {
   "cell_type": "code",
   "execution_count": 15,
   "metadata": {},
   "outputs": [],
   "source": [
    "def symboliclique(s):\n",
    "    co=0\n",
    "    for i in s:\n",
    "            co=co+2**(refvec.index(i))\n",
    "    return co"
   ]
  },
  {
   "cell_type": "code",
   "execution_count": 16,
   "metadata": {},
   "outputs": [],
   "source": [
    "def split(C,e) :\n",
    "    mate=set([])\n",
    "    reval=set([])\n",
    "   \n",
    "    if e in C :\n",
    "        mate.add(e)\n",
    "        \n",
    "        for i in C :\n",
    "            if e & i == 0 :\n",
    "                mate.add(i)\n",
    "               \n",
    "     \n",
    "            if i != e :\n",
    "                        reval.add(i)\n",
    "            \n",
    "        return (mate,reval)\n",
    "    else:\n",
    "        return (C,set([]))\n",
    "    \n",
    "            \n",
    "             \n",
    "        "
   ]
  },
  {
   "cell_type": "code",
   "execution_count": 17,
   "metadata": {},
   "outputs": [],
   "source": [
    "def  Antichain(Sy,sc):\n",
    "           b=True\n",
    "           for e in Sy :\n",
    "                if e & sc == sc :\n",
    "                         b=False\n",
    "                         \n",
    "                         break\n",
    "                         \n",
    "                       \n",
    "           \n",
    "           \n",
    "            \n",
    "           return b\n",
    "        "
   ]
  },
  {
   "cell_type": "code",
   "execution_count": 20,
   "metadata": {},
   "outputs": [
    {
     "name": "stdout",
     "output_type": "stream",
     "text": [
      "51\n",
      "[{16, 15}, {8, 23}, {27, 4}, {2, 29}, {1, 30}, {25, 6}, {25, 2, 4}, {11, 20}, {16, 11, 4}, {19, 12}, {8, 19, 4}, {9, 22}, {8, 1, 22}, {16, 9, 6}, {9, 2, 20}, {24, 7}, {16, 8, 7}, {24, 1, 6}, {10, 21}, {8, 2, 21}, {1, 10, 20}, {17, 14}, {16, 1, 14}, {17, 2, 12}, {8, 17, 6}, {16, 8, 6, 1}, {17, 10, 4}, {8, 17, 2, 4}, {3, 28}, {1, 2, 28}, {24, 3, 4}, {8, 3, 20}, {8, 1, 2, 20}, {16, 3, 12}, {16, 8, 3, 4}, {18, 13}, {16, 2, 13}, {9, 18, 4}, {16, 9, 2, 4}, {1, 18, 12}, {16, 1, 2, 12}, {26, 5}, {1, 26, 4}, {16, 10, 5}, {16, 1, 10, 4}, {24, 2, 5}, {24, 1, 2, 4}, {8, 18, 5}, {8, 1, 18, 4}, {16, 8, 2, 5}, {1, 2, 4, 8, 16}]\n",
      "Wall time: 13 ms\n"
     ]
    }
   ],
   "source": [
    "\n",
    "%%time\n",
    "#less efficient code \n",
    "Sy=[symboliclique(refvec)]\n",
    "T=refvec\n",
    "\n",
    "\n",
    "\n",
    "for e in T :\n",
    "    \n",
    "    \n",
    "        \n",
    "       \n",
    "   \n",
    "    \n",
    "    Sy1=Sy\n",
    "    \n",
    "    while (len(Sy1) != 0 ):\n",
    "        \n",
    "        sc, *stail = Sy1\n",
    "        c=ensclique(sc)\n",
    "        (mate , reval)=split(c,e)\n",
    "        if reval !=set([]) and len(mate)!=len(c)  :\n",
    "            \n",
    "            Sy.remove(sc)\n",
    "            smate=symboliclique(mate)\n",
    "            if  Antichain(Sy,smate):\n",
    "                    Sy.append(smate)\n",
    "                    \n",
    "            sreval=symboliclique(reval)\n",
    "            Sy.append(sreval)\n",
    "                  \n",
    "        \n",
    "        \n",
    "        Sy1=stail\n",
    "        \n",
    "        \n",
    "        \n",
    "    \n",
    "SAsListOfSet=[]\n",
    "for js in Sy :\n",
    "    SAsListOfSet.append(ensclique(js)) \n",
    "print(len(SAsListOfSet))\n",
    "print(SAsListOfSet)    \n",
    "    \n"
   ]
  },
  {
   "cell_type": "code",
   "execution_count": 21,
   "metadata": {},
   "outputs": [
    {
     "name": "stdout",
     "output_type": "stream",
     "text": [
      "51\n",
      "[{16, 15}, {8, 23}, {27, 4}, {2, 29}, {1, 30}, {25, 6}, {25, 2, 4}, {11, 20}, {16, 11, 4}, {19, 12}, {8, 19, 4}, {9, 22}, {8, 1, 22}, {16, 9, 6}, {9, 2, 20}, {24, 7}, {8, 16, 7}, {24, 1, 6}, {10, 21}, {8, 2, 21}, {1, 10, 20}, {17, 14}, {16, 1, 14}, {17, 2, 12}, {8, 17, 6}, {8, 1, 6, 16}, {17, 10, 4}, {8, 17, 2, 4}, {3, 28}, {1, 2, 28}, {24, 3, 4}, {8, 3, 20}, {8, 1, 2, 20}, {16, 3, 12}, {8, 16, 3, 4}, {18, 13}, {16, 2, 13}, {9, 18, 4}, {16, 9, 2, 4}, {1, 18, 12}, {16, 1, 2, 12}, {26, 5}, {1, 26, 4}, {16, 10, 5}, {16, 1, 10, 4}, {24, 2, 5}, {24, 1, 2, 4}, {8, 18, 5}, {8, 1, 18, 4}, {8, 16, 2, 5}, {1, 2, 4, 8, 16}]\n",
      "Wall time: 3 ms\n"
     ]
    }
   ],
   "source": [
    "\n",
    "%%time\n",
    "\n",
    "#efficient code \n",
    "\n",
    "S=[set(refvec)]\n",
    "Sy=[symboliclique(refvec)]\n",
    "T=refvec\n",
    "\n",
    "\n",
    "\n",
    "for e in T :\n",
    "    \n",
    "    \n",
    "        \n",
    "       \n",
    "   \n",
    "    S1=S\n",
    "    Sy1=Sy\n",
    "    \n",
    "    while (len(Sy1) != 0 ):\n",
    "        c, *tail = S1\n",
    "        sc, *stail = Sy1\n",
    "        \n",
    "        \n",
    "        (mate , reval)=split(c,e)\n",
    "        \n",
    "        if reval !=set([]) and len(mate)!=len(c)  :\n",
    "            S.remove(c)\n",
    "            Sy.remove(sc)\n",
    "            smate=symboliclique(mate)\n",
    "            if  Antichain(Sy,smate):\n",
    "                    Sy.append(smate)\n",
    "                    S.append(mate)\n",
    "            sreval=symboliclique(reval)\n",
    "            \n",
    "            Sy.append(sreval)\n",
    "            S.append(reval)           \n",
    "        \n",
    "        S1=tail\n",
    "        Sy1=stail\n",
    "        \n",
    "        \n",
    "    \n",
    "    \n",
    "    \n",
    "print(len(S))        \n",
    "print(S)"
   ]
  },
  {
   "cell_type": "code",
   "execution_count": null,
   "metadata": {},
   "outputs": [],
   "source": []
  },
  {
   "cell_type": "code",
   "execution_count": null,
   "metadata": {},
   "outputs": [],
   "source": []
  }
 ],
 "metadata": {
  "kernelspec": {
   "display_name": "Python 3",
   "language": "python",
   "name": "python3"
  },
  "language_info": {
   "codemirror_mode": {
    "name": "ipython",
    "version": 3
   },
   "file_extension": ".py",
   "mimetype": "text/x-python",
   "name": "python",
   "nbconvert_exporter": "python",
   "pygments_lexer": "ipython3",
   "version": "3.7.6"
  }
 },
 "nbformat": 4,
 "nbformat_minor": 4
}
